{
 "cells": [
  {
   "cell_type": "code",
   "execution_count": 86,
   "metadata": {
    "collapsed": true
   },
   "outputs": [
    {
     "name": "stdout",
     "output_type": "stream",
     "text": [
      "The autoreload extension is already loaded. To reload it, use:\n",
      "  %reload_ext autoreload\n"
     ]
    }
   ],
   "source": [
    "import pandas as pd\n",
    "\n",
    "from affiliations import extract_affiliations\n",
    "from names_generation import extract_names\n",
    "%load_ext autoreload\n",
    "%autoreload 2"
   ]
  },
  {
   "cell_type": "code",
   "execution_count": 87,
   "outputs": [
    {
     "data": {
      "text/plain": "   Unnamed: 0  temp_id                                           abstract  \\\n0           0        0  The pulmonary effects of hyperventilation foll...   \n1           1        1  Ten patients with acute respiratory failure (A...   \n2           2        2  A group of 36 patients with severe adult respi...   \n3           3        3  Functional residual capacity (FRC) was measure...   \n4           4        4                                                NaN   \n\n                                               title              pubdate  \\\n0  Acute respiratory failure following pharmacolo...  1988-01-01 00:00:00   \n1  Morphological response to positive end expirat...  1986-01-01 00:00:00   \n2  The role of total static lung compliance in th...  1984-01-01 00:00:00   \n3  Perioperative changes in functional residual c...  1988-04-01 00:00:00   \n4                                    ECMO revisited.  1987-01-01 00:00:00   \n\n                                             journal  \\\n0  Intensive care medicine, Issue: 1, Volume: 15 ...   \n1  Intensive care medicine, Issue: 3, Volume: 12 ...   \n2  Intensive care medicine, Issue: 3, Volume: 10 ...   \n3  British journal of anaesthesia, Issue: 5, Volu...   \n4  The International journal of artificial organs...   \n\n                                        affiliations  publication_uuid  \\\n0  National Institutes of Health, Laboratory of T...               0.0   \n1                                 , , , , , , , , ,                1.0   \n2                                 , , , , , , , , ,                2.0   \n3  Istituto di Anestesiologia e Rianimazione, Uni...               3.0   \n4                                   , , , , , , , ,                4.0   \n\n                                             authors  \n0  ['D Mascheroni', 'T Kolobow', 'R Fumagalli', '...  \n1  ['L Gattinoni', 'D Mascheroni', 'A Torresin', ...  \n2  ['L Gattinoni', 'A Pesenti', 'M L Caspani', 'A...  \n3  ['G Damia', 'D Mascheroni', 'M Croci', 'L Tare...  \n4  ['T Kolobow', 'L Gattinoni', 'A Pesenti', 'M S...  ",
      "text/html": "<div>\n<style scoped>\n    .dataframe tbody tr th:only-of-type {\n        vertical-align: middle;\n    }\n\n    .dataframe tbody tr th {\n        vertical-align: top;\n    }\n\n    .dataframe thead th {\n        text-align: right;\n    }\n</style>\n<table border=\"1\" class=\"dataframe\">\n  <thead>\n    <tr style=\"text-align: right;\">\n      <th></th>\n      <th>Unnamed: 0</th>\n      <th>temp_id</th>\n      <th>abstract</th>\n      <th>title</th>\n      <th>pubdate</th>\n      <th>journal</th>\n      <th>affiliations</th>\n      <th>publication_uuid</th>\n      <th>authors</th>\n    </tr>\n  </thead>\n  <tbody>\n    <tr>\n      <th>0</th>\n      <td>0</td>\n      <td>0</td>\n      <td>The pulmonary effects of hyperventilation foll...</td>\n      <td>Acute respiratory failure following pharmacolo...</td>\n      <td>1988-01-01 00:00:00</td>\n      <td>Intensive care medicine, Issue: 1, Volume: 15 ...</td>\n      <td>National Institutes of Health, Laboratory of T...</td>\n      <td>0.0</td>\n      <td>['D Mascheroni', 'T Kolobow', 'R Fumagalli', '...</td>\n    </tr>\n    <tr>\n      <th>1</th>\n      <td>1</td>\n      <td>1</td>\n      <td>Ten patients with acute respiratory failure (A...</td>\n      <td>Morphological response to positive end expirat...</td>\n      <td>1986-01-01 00:00:00</td>\n      <td>Intensive care medicine, Issue: 3, Volume: 12 ...</td>\n      <td>, , , , , , , , ,</td>\n      <td>1.0</td>\n      <td>['L Gattinoni', 'D Mascheroni', 'A Torresin', ...</td>\n    </tr>\n    <tr>\n      <th>2</th>\n      <td>2</td>\n      <td>2</td>\n      <td>A group of 36 patients with severe adult respi...</td>\n      <td>The role of total static lung compliance in th...</td>\n      <td>1984-01-01 00:00:00</td>\n      <td>Intensive care medicine, Issue: 3, Volume: 10 ...</td>\n      <td>, , , , , , , , ,</td>\n      <td>2.0</td>\n      <td>['L Gattinoni', 'A Pesenti', 'M L Caspani', 'A...</td>\n    </tr>\n    <tr>\n      <th>3</th>\n      <td>3</td>\n      <td>3</td>\n      <td>Functional residual capacity (FRC) was measure...</td>\n      <td>Perioperative changes in functional residual c...</td>\n      <td>1988-04-01 00:00:00</td>\n      <td>British journal of anaesthesia, Issue: 5, Volu...</td>\n      <td>Istituto di Anestesiologia e Rianimazione, Uni...</td>\n      <td>3.0</td>\n      <td>['G Damia', 'D Mascheroni', 'M Croci', 'L Tare...</td>\n    </tr>\n    <tr>\n      <th>4</th>\n      <td>4</td>\n      <td>4</td>\n      <td>NaN</td>\n      <td>ECMO revisited.</td>\n      <td>1987-01-01 00:00:00</td>\n      <td>The International journal of artificial organs...</td>\n      <td>, , , , , , , ,</td>\n      <td>4.0</td>\n      <td>['T Kolobow', 'L Gattinoni', 'A Pesenti', 'M S...</td>\n    </tr>\n  </tbody>\n</table>\n</div>"
     },
     "execution_count": 87,
     "metadata": {},
     "output_type": "execute_result"
    }
   ],
   "source": [
    "df = pd.read_csv('/home/kkulczak/Downloads/publications_min.csv')\n",
    "df.head()"
   ],
   "metadata": {
    "collapsed": false,
    "pycharm": {
     "name": "#%%\n"
    }
   }
  },
  {
   "cell_type": "code",
   "execution_count": 102,
   "outputs": [
    {
     "data": {
      "text/plain": "  first_name  last_name\n0   Riccardo      Rossi\n1    Grazisa   Rossetti\n2       Lynn    Wenandy\n3     Serena      Curti\n4       Anna  Ripamonti",
      "text/html": "<div>\n<style scoped>\n    .dataframe tbody tr th:only-of-type {\n        vertical-align: middle;\n    }\n\n    .dataframe tbody tr th {\n        vertical-align: top;\n    }\n\n    .dataframe thead th {\n        text-align: right;\n    }\n</style>\n<table border=\"1\" class=\"dataframe\">\n  <thead>\n    <tr style=\"text-align: right;\">\n      <th></th>\n      <th>first_name</th>\n      <th>last_name</th>\n    </tr>\n  </thead>\n  <tbody>\n    <tr>\n      <th>0</th>\n      <td>Riccardo</td>\n      <td>Rossi</td>\n    </tr>\n    <tr>\n      <th>1</th>\n      <td>Grazisa</td>\n      <td>Rossetti</td>\n    </tr>\n    <tr>\n      <th>2</th>\n      <td>Lynn</td>\n      <td>Wenandy</td>\n    </tr>\n    <tr>\n      <th>3</th>\n      <td>Serena</td>\n      <td>Curti</td>\n    </tr>\n    <tr>\n      <th>4</th>\n      <td>Anna</td>\n      <td>Ripamonti</td>\n    </tr>\n  </tbody>\n</table>\n</div>"
     },
     "execution_count": 102,
     "metadata": {},
     "output_type": "execute_result"
    }
   ],
   "source": [
    "names = extract_names(df['authors'])\n",
    "names.to_csv('unique_people.csv', index=False)\n",
    "names.head()"
   ],
   "metadata": {
    "collapsed": false,
    "pycharm": {
     "name": "#%%\n"
    }
   }
  },
  {
   "cell_type": "code",
   "execution_count": 101,
   "outputs": [
    {
     "name": "stderr",
     "output_type": "stream",
     "text": [
      "/home/kkulczak/Documents/PeakData-Data-Engineering-Hiring/venv/lib/python3.9/site-packages/pandas/core/strings/accessor.py:101: UserWarning: This pattern has match groups. To actually get the groups, use str.extract.\n",
      "  return func(self, *args, **kwargs)\n"
     ]
    },
    {
     "data": {
      "text/plain": "0    National Institutes of Health, Laboratory of T...\n1    Istituto di Anestesiologia e Rianimazione, Uni...\n3    Istituto Nazionale Genetica Molecolare, Milano...\n4    Istituto di Anestesiologia e Rianimazione, IRC...\n5    Institute of Biochemistry II, Goethe Universit...\ndtype: object"
     },
     "execution_count": 101,
     "metadata": {},
     "output_type": "execute_result"
    }
   ],
   "source": [
    "affiliations = extract_affiliations(df['affiliations'])\n",
    "affiliations.to_csv('unique_affiliations.csv', index=False)\n",
    "affiliations.head()"
   ],
   "metadata": {
    "collapsed": false,
    "pycharm": {
     "name": "#%%\n"
    }
   }
  },
  {
   "cell_type": "code",
   "execution_count": 99,
   "outputs": [
    {
     "data": {
      "text/plain": "0        National Institutes of Health, Laboratory of T...\n1        Istituto di Anestesiologia e Rianimazione, Uni...\n3        Istituto Nazionale Genetica Molecolare, Milano...\n4        Istituto di Anestesiologia e Rianimazione, IRC...\n5        Institute of Biochemistry II, Goethe Universit...\n                               ...                        \n11108    Department of Developmental Biology, Max Planc...\n11109                                      Vienna, Austria\n11110    Division of Cardiac Thoracic Vascular Anesthes...\n11111    Department of Anesthesia and Perioperative Car...\n11112    Department of Neuroanatomy and Molecular Brain...\nLength: 10264, dtype: object"
     },
     "execution_count": 99,
     "metadata": {},
     "output_type": "execute_result"
    }
   ],
   "source": [
    "\n"
   ],
   "metadata": {
    "collapsed": false,
    "pycharm": {
     "name": "#%%\n"
    }
   }
  }
 ],
 "metadata": {
  "kernelspec": {
   "display_name": "Python 3",
   "language": "python",
   "name": "python3"
  },
  "language_info": {
   "codemirror_mode": {
    "name": "ipython",
    "version": 2
   },
   "file_extension": ".py",
   "mimetype": "text/x-python",
   "name": "python",
   "nbconvert_exporter": "python",
   "pygments_lexer": "ipython2",
   "version": "2.7.6"
  }
 },
 "nbformat": 4,
 "nbformat_minor": 0
}